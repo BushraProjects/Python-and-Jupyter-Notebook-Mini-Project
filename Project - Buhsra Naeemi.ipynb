{
 "cells": [
  {
   "cell_type": "code",
   "execution_count": 1,
   "metadata": {},
   "outputs": [],
   "source": [
    "import pandas as pd\n",
    "import scipy as sp\n",
    "import pandas as pd\n",
    "import matplotlib.pyplot as plt"
   ]
  },
  {
   "cell_type": "code",
   "execution_count": 2,
   "metadata": {},
   "outputs": [],
   "source": [
    "dataset = pd.read_csv('channing.csv')"
   ]
  },
  {
   "cell_type": "code",
   "execution_count": 3,
   "metadata": {},
   "outputs": [
    {
     "data": {
      "text/html": [
       "<div>\n",
       "<style scoped>\n",
       "    .dataframe tbody tr th:only-of-type {\n",
       "        vertical-align: middle;\n",
       "    }\n",
       "\n",
       "    .dataframe tbody tr th {\n",
       "        vertical-align: top;\n",
       "    }\n",
       "\n",
       "    .dataframe thead th {\n",
       "        text-align: right;\n",
       "    }\n",
       "</style>\n",
       "<table border=\"1\" class=\"dataframe\">\n",
       "  <thead>\n",
       "    <tr style=\"text-align: right;\">\n",
       "      <th></th>\n",
       "      <th>Unnamed: 0</th>\n",
       "      <th>sex</th>\n",
       "      <th>entry</th>\n",
       "      <th>exit</th>\n",
       "      <th>time</th>\n",
       "      <th>cens</th>\n",
       "    </tr>\n",
       "  </thead>\n",
       "  <tbody>\n",
       "    <tr>\n",
       "      <td>0</td>\n",
       "      <td>1</td>\n",
       "      <td>Male</td>\n",
       "      <td>782</td>\n",
       "      <td>909</td>\n",
       "      <td>127</td>\n",
       "      <td>1</td>\n",
       "    </tr>\n",
       "    <tr>\n",
       "      <td>1</td>\n",
       "      <td>2</td>\n",
       "      <td>Male</td>\n",
       "      <td>1020</td>\n",
       "      <td>1128</td>\n",
       "      <td>108</td>\n",
       "      <td>1</td>\n",
       "    </tr>\n",
       "    <tr>\n",
       "      <td>2</td>\n",
       "      <td>3</td>\n",
       "      <td>Male</td>\n",
       "      <td>856</td>\n",
       "      <td>969</td>\n",
       "      <td>113</td>\n",
       "      <td>1</td>\n",
       "    </tr>\n",
       "    <tr>\n",
       "      <td>3</td>\n",
       "      <td>4</td>\n",
       "      <td>Male</td>\n",
       "      <td>915</td>\n",
       "      <td>957</td>\n",
       "      <td>42</td>\n",
       "      <td>1</td>\n",
       "    </tr>\n",
       "    <tr>\n",
       "      <td>4</td>\n",
       "      <td>5</td>\n",
       "      <td>Male</td>\n",
       "      <td>863</td>\n",
       "      <td>983</td>\n",
       "      <td>120</td>\n",
       "      <td>1</td>\n",
       "    </tr>\n",
       "    <tr>\n",
       "      <td>5</td>\n",
       "      <td>6</td>\n",
       "      <td>Male</td>\n",
       "      <td>906</td>\n",
       "      <td>1012</td>\n",
       "      <td>106</td>\n",
       "      <td>1</td>\n",
       "    </tr>\n",
       "    <tr>\n",
       "      <td>6</td>\n",
       "      <td>7</td>\n",
       "      <td>Male</td>\n",
       "      <td>955</td>\n",
       "      <td>1055</td>\n",
       "      <td>100</td>\n",
       "      <td>1</td>\n",
       "    </tr>\n",
       "    <tr>\n",
       "      <td>7</td>\n",
       "      <td>8</td>\n",
       "      <td>Male</td>\n",
       "      <td>943</td>\n",
       "      <td>1025</td>\n",
       "      <td>82</td>\n",
       "      <td>1</td>\n",
       "    </tr>\n",
       "    <tr>\n",
       "      <td>8</td>\n",
       "      <td>9</td>\n",
       "      <td>Male</td>\n",
       "      <td>943</td>\n",
       "      <td>1043</td>\n",
       "      <td>100</td>\n",
       "      <td>1</td>\n",
       "    </tr>\n",
       "    <tr>\n",
       "      <td>9</td>\n",
       "      <td>10</td>\n",
       "      <td>Male</td>\n",
       "      <td>837</td>\n",
       "      <td>945</td>\n",
       "      <td>108</td>\n",
       "      <td>1</td>\n",
       "    </tr>\n",
       "  </tbody>\n",
       "</table>\n",
       "</div>"
      ],
      "text/plain": [
       "   Unnamed: 0   sex  entry  exit  time  cens\n",
       "0           1  Male    782   909   127     1\n",
       "1           2  Male   1020  1128   108     1\n",
       "2           3  Male    856   969   113     1\n",
       "3           4  Male    915   957    42     1\n",
       "4           5  Male    863   983   120     1\n",
       "5           6  Male    906  1012   106     1\n",
       "6           7  Male    955  1055   100     1\n",
       "7           8  Male    943  1025    82     1\n",
       "8           9  Male    943  1043   100     1\n",
       "9          10  Male    837   945   108     1"
      ]
     },
     "execution_count": 3,
     "metadata": {},
     "output_type": "execute_result"
    }
   ],
   "source": [
    "#(a)Show the first 10 rows of the dataset. \n",
    "dataset.head(10)"
   ]
  },
  {
   "cell_type": "code",
   "execution_count": 5,
   "metadata": {},
   "outputs": [
    {
     "name": "stdout",
     "output_type": "stream",
     "text": [
      "The Number of Rows are: 462\n",
      "The Number of Columns are: 6\n"
     ]
    }
   ],
   "source": [
    "#(b)Show how many rows and columns in the dataset \n",
    "rows=len(dataset.axes[0])\n",
    "columns=len(dataset.axes[1])\n",
    "print(\"The Number of Rows are: \"+str(rows))\n",
    "print(\"The Number of Columns are: \"+str(columns))"
   ]
  },
  {
   "cell_type": "code",
   "execution_count": 6,
   "metadata": {},
   "outputs": [
    {
     "data": {
      "text/plain": [
       "Unnamed: 0    0\n",
       "sex           0\n",
       "entry         0\n",
       "exit          0\n",
       "time          0\n",
       "cens          0\n",
       "dtype: int64"
      ]
     },
     "execution_count": 6,
     "metadata": {},
     "output_type": "execute_result"
    }
   ],
   "source": [
    "#(c)Show if there is any missing values in the dataset. \n",
    "dataset.isnull().sum()"
   ]
  },
  {
   "cell_type": "code",
   "execution_count": 7,
   "metadata": {},
   "outputs": [
    {
     "data": {
      "text/plain": [
       "Text(0.5, 0, 'Death number of male and female in Channing House')"
      ]
     },
     "execution_count": 7,
     "metadata": {},
     "output_type": "execute_result"
    },
    {
     "data": {
      "image/png": "[encoded data removed]",
      "text/plain": [
       "<Figure size 432x288 with 1 Axes>"
      ]
     },
     "metadata": {
      "needs_background": "light"
     },
     "output_type": "display_data"
    }
   ],
   "source": [
    "#(d)Visualize the number of male vs female who died in the Channing house\n",
    "death_num = dataset.cens[dataset.cens == 1]\n",
    "male_death = [len(death_num[dataset.sex == 'Male'])]\n",
    "female_death = [len(death_num[dataset.sex == 'Female'])]\n",
    "plt.bar('Male', male_death)\n",
    "plt.bar('Female', female_death)\n",
    "plt.xlabel('Death number of male and female in Channing House')\n"
   ]
  },
  {
   "cell_type": "code",
   "execution_count": 8,
   "metadata": {},
   "outputs": [
    {
     "data": {
      "text/plain": [
       "Text(0.5, 0, 'Number of male vs female who left the Channing House before July 1, 1975')"
      ]
     },
     "execution_count": 8,
     "metadata": {},
     "output_type": "execute_result"
    },
    {
     "data": {
      "image/png": "[encoded data removed]",
      "text/plain": [
       "<Figure size 432x288 with 1 Axes>"
      ]
     },
     "metadata": {
      "needs_background": "light"
     },
     "output_type": "display_data"
    }
   ],
   "source": [
    "#(e)Visualize the number of male vs female who left the Channing house before July 1, 1975\n",
    "left = dataset.cens[dataset.cens == 0]\n",
    "male = [len(left[dataset.sex == 'Male'])]\n",
    "female = [len(left[dataset.sex == 'Female'])]\n",
    "plt.bar('Male', male)\n",
    "plt.bar('Female', female)\n",
    "plt.xlabel('Number of male vs female who left the Channing House before July 1, 1975')\n"
   ]
  },
  {
   "cell_type": "code",
   "execution_count": 10,
   "metadata": {},
   "outputs": [
    {
     "name": "stdout",
     "output_type": "stream",
     "text": [
      "The rate of female who died in the Channing House is:  28.13852813852814\n"
     ]
    }
   ],
   "source": [
    "#(f)Compute the rate of female who died in the Channing house. \n",
    "death_female = dataset.cens[dataset.cens == 1]\n",
    "female = len(death_female[dataset.sex == 'Female'])\n",
    "death_rate = female/len(dataset)*100.0\n",
    "print(\"The rate of female who died in the Channing House is: \",death_rate)"
   ]
  },
  {
   "cell_type": "code",
   "execution_count": 11,
   "metadata": {},
   "outputs": [
    {
     "name": "stdout",
     "output_type": "stream",
     "text": [
      "The rate of male who died in the Channing House is:  9.956709956709958\n"
     ]
    }
   ],
   "source": [
    "#(g)Compute the rate of male who died in the Channing house.  \n",
    "death_male = dataset.cens[dataset.cens == 1]\n",
    "male = len(death_male[dataset.sex == 'Male'])\n",
    "rate_male = male/len(dataset)*100.0\n",
    "print(\"The rate of male who died in the Channing House is: \",rate_male)"
   ]
  },
  {
   "cell_type": "code",
   "execution_count": 13,
   "metadata": {},
   "outputs": [
    {
     "name": "stdout",
     "output_type": "stream",
     "text": [
      "            entry        exit        time        cens\n",
      "count  462.000000  462.000000  462.000000  462.000000\n",
      "mean     0.424764    0.486031    0.586390    0.380952\n",
      "std      0.170317    0.171553    0.352397    0.486147\n",
      "min      0.000000    0.000000    0.000000    0.000000\n",
      "25%      0.297297    0.376744    0.255474    0.000000\n",
      "50%      0.411548    0.495349    0.598540    0.000000\n",
      "75%      0.547912    0.590698    1.000000    1.000000\n",
      "max      1.000000    1.000000    1.000000    1.000000\n"
     ]
    }
   ],
   "source": [
    "#(h)Normalize the dataset using minmax normalization method. \n",
    "channing = dataset[['entry', 'exit', 'time', 'cens']]\n",
    "normalized = (channing-channing.min())/(channing.max()-channing.min())\n",
    "print(normalized.describe())"
   ]
  },
  {
   "cell_type": "code",
   "execution_count": 15,
   "metadata": {},
   "outputs": [
    {
     "name": "stdout",
     "output_type": "stream",
     "text": [
      "\n",
      "Transformed data in original dimension:\n",
      "\n",
      "      entry      exit      time\n",
      "0 -1.789024 -1.044857  0.967620\n",
      "1  1.648107  1.927130  0.573642\n",
      "2 -0.720336 -0.230614  0.677320\n",
      "3  0.131726 -0.393463 -0.794912\n",
      "4 -0.619244 -0.040624  0.822470\n",
      "\n",
      "\n",
      "Projected data in reduced dimesions: \n",
      "\n",
      "      PCA 1     PCA 2\n",
      "0 -1.773915 -1.442860\n",
      "1  2.596197 -0.137520\n",
      "2 -0.524843 -0.869119\n",
      "3 -0.340135  0.829666\n",
      "4 -0.293842 -0.987536\n"
     ]
    }
   ],
   "source": [
    "#(i)Apply PCA on the dataset. \n",
    "from sklearn.decomposition import PCA\n",
    "from sklearn.preprocessing import StandardScaler\n",
    "dataset_features = ['entry', 'exit', 'time']\n",
    "\n",
    "x = dataset.loc[:, dataset_features].values\n",
    "y = dataset.loc[:,['cens']].values\n",
    "# Standardizing the dataset_features\n",
    "x = StandardScaler().fit_transform(x)\n",
    "\n",
    "pca = PCA(n_components=2)\n",
    "x_PCA = pca.fit(x).transform(x)\n",
    "\n",
    "data_transformed = pd.DataFrame(x, columns = dataset_features)\n",
    "\n",
    "principal_DataFrame = pd.DataFrame(data = x_PCA, columns = ['PCA 1', 'PCA 2'])\n",
    "\n",
    "print(\"\\nTransformed data in original dimension:\\n\")\n",
    "print(data_transformed.head())\n",
    "\n",
    "print(\"\\n\\nProjected data in reduced dimesions: \\n\")\n",
    "print(principal_DataFrame.head())"
   ]
  },
  {
   "cell_type": "code",
   "execution_count": null,
   "metadata": {},
   "outputs": [],
   "source": [
    "#(j) Submitted\n",
    "#Thank You!"
   ]
  }
 ],
 "metadata": {
  "kernelspec": {
   "display_name": "Python 3",
   "language": "python",
   "name": "python3"
  },
  "language_info": {
   "codemirror_mode": {
    "name": "ipython",
    "version": 3
   },
   "file_extension": ".py",
   "mimetype": "text/x-python",
   "name": "python",
   "nbconvert_exporter": "python",
   "pygments_lexer": "ipython3",
   "version": "3.7.4"
  }
 },
 "nbformat": 4,
 "nbformat_minor": 2
}
